{
 "cells": [
  {
   "cell_type": "markdown",
   "id": "3c8faaca-9e51-4410-a3dd-002b346da875",
   "metadata": {},
   "source": [
    "# Calcul symbolique et modélisation avec Sympy\n",
    "\n",
    "Dans ce notebook, nous allons explorer la bibliothèque **Sympy** pour le calcul symbolique dans quelques cas Pratiques."
   ]
  },
  {
   "cell_type": "markdown",
   "id": "09db7252-6622-4c32-bf36-bfbd79dc69ca",
   "metadata": {},
   "source": [
    "## Noms des membres du groupe\n",
    "\n",
    "1. DONGMO TCHOUMENE ANITA BELVIANE        **22W2184**\n",
    "2. DONFACK SYNTHIA CALORINE               **22U2073**\n",
    "3. BOKOU-BOUNA-ANGE-LARISSA               **22W2188**\n",
    "4. JIATSA ROMMEL JUNIOR                   **22T2906**"
   ]
  },
  {
   "cell_type": "markdown",
   "id": "27de3784-4a80-4c30-b695-5e4d3fe8fbd4",
   "metadata": {},
   "source": [
    "### Installation et import"
   ]
  },
  {
   "cell_type": "code",
   "execution_count": 3,
   "id": "ffbd957d-b7e4-48d8-a306-ea33d4cfc013",
   "metadata": {},
   "outputs": [],
   "source": [
    "# !pip install sympy\n",
    "\n",
    "import sympy as sp\n",
    "\n",
    "# Définition de symboles\n",
    "x, y = sp.symbols('x y')\n"
   ]
  },
  {
   "cell_type": "markdown",
   "id": "dd78d9a0-95e2-40b2-a5e0-c1b688d2cbd0",
   "metadata": {},
   "source": [
    "### Operation de base"
   ]
  },
  {
   "cell_type": "code",
   "execution_count": 6,
   "id": "ced58534-516b-49af-b335-e40687cb1baa",
   "metadata": {},
   "outputs": [
    {
     "name": "stdout",
     "output_type": "stream",
     "text": [
      "Expression : (x + 1)**2\n",
      "Développé : x**2 + 2*x + 1\n",
      "Factorisé : (x + 1)**2\n",
      "Simplifié : x + 1\n"
     ]
    }
   ],
   "source": [
    "# Expression symbolique\n",
    "expr = (x + 1)**2\n",
    "print(\"Expression :\", expr)\n",
    "\n",
    "# Développer\n",
    "print(\"Développé :\", sp.expand(expr))\n",
    "\n",
    "# Factoriser\n",
    "print(\"Factorisé :\", sp.factor(sp.expand(expr)))\n",
    "\n",
    "# Simplification\n",
    "expr2 = (x**2 + 2*x + 1)/(x+1)\n",
    "print(\"Simplifié :\", sp.simplify(expr2))\n"
   ]
  },
  {
   "cell_type": "markdown",
   "id": "73471abf-a31e-44f7-af75-5aed003d9fca",
   "metadata": {},
   "source": [
    "### Développement et factorisation"
   ]
  },
  {
   "cell_type": "code",
   "execution_count": 7,
   "id": "175c3f42-32d5-4eb4-ab85-b91b3ad0ac6c",
   "metadata": {},
   "outputs": [
    {
     "name": "stdout",
     "output_type": "stream",
     "text": [
      "Développement de (x + 3)^2 : x**2 + 6*x + 9\n",
      "Factorisation du résultat : (x + 3)**2\n"
     ]
    }
   ],
   "source": [
    "import sympy as sp\n",
    "\n",
    "x, y = sp.symbols('x y')\n",
    "\n",
    "# Développer (x + 3)^2\n",
    "expr = (x + 3)**2\n",
    "developpe = sp.expand(expr)\n",
    "print(\"Développement de (x + 3)^2 :\", developpe)\n",
    "\n",
    "# Factoriser le résultat\n",
    "factorise = sp.factor(developpe)\n",
    "print(\"Factorisation du résultat :\", factorise)\n"
   ]
  },
  {
   "cell_type": "markdown",
   "id": "65df6736-cde0-4511-87f3-9bc40ea87708",
   "metadata": {},
   "source": [
    "### simplification"
   ]
  },
  {
   "cell_type": "code",
   "execution_count": 8,
   "id": "bdcf9002-2ab7-4319-b2f9-659cae581ce7",
   "metadata": {},
   "outputs": [
    {
     "name": "stdout",
     "output_type": "stream",
     "text": [
      "Simplification de (x^2 - 9)/(x - 3) : x + 3\n"
     ]
    }
   ],
   "source": [
    "# Exemple avec fractions rationnelles\n",
    "expr2 = (x**2 - 9)/(x - 3)\n",
    "simplifie = sp.simplify(expr2)\n",
    "print(\"Simplification de (x^2 - 9)/(x - 3) :\", simplifie)\n"
   ]
  },
  {
   "cell_type": "markdown",
   "id": "82dff97f-0333-4dcb-99ee-7e738a6d757c",
   "metadata": {},
   "source": [
    "### La puissance du calcul symbolique : dérivation"
   ]
  },
  {
   "cell_type": "code",
   "execution_count": 9,
   "id": "b6a235e2-758f-4c6c-8636-674e8f002dd0",
   "metadata": {},
   "outputs": [
    {
     "name": "stdout",
     "output_type": "stream",
     "text": [
      "f(x) = exp(x)*sin(x)\n",
      "f'(x) = exp(x)*sin(x) + exp(x)*cos(x)\n"
     ]
    }
   ],
   "source": [
    "f = sp.sin(x) * sp.exp(x)\n",
    "\n",
    "# Dérivée\n",
    "df = sp.diff(f, x)\n",
    "print(\"f(x) =\", f)\n",
    "print(\"f'(x) =\", df)\n"
   ]
  },
  {
   "cell_type": "markdown",
   "id": "24134e36-b660-4a61-852b-351d9bf0a324",
   "metadata": {},
   "source": [
    "### Integration symbolique"
   ]
  },
  {
   "cell_type": "code",
   "execution_count": 11,
   "id": "5b73c9ed-10fe-4a04-a15d-1bd0b630a6fc",
   "metadata": {},
   "outputs": [
    {
     "name": "stdout",
     "output_type": "stream",
     "text": [
      "∫ exp(-x^2) dx = sqrt(pi)*erf(x)/2\n",
      "∫_{-∞}^{+∞} exp(-x^2) dx = sqrt(pi)\n"
     ]
    }
   ],
   "source": [
    "f = sp.exp(-x**2)\n",
    "\n",
    "# Intégrale indéfinie\n",
    "F = sp.integrate(f, x)\n",
    "print(\"∫ exp(-x^2) dx =\", F)\n",
    "\n",
    "# Intégrale définie (aire sous la courbe de la gaussienne)\n",
    "I = sp.integrate(f, (x, -sp.oo, sp.oo))\n",
    "print(\"∫_{-∞}^{+∞} exp(-x^2) dx =\", I)\n"
   ]
  },
  {
   "cell_type": "markdown",
   "id": "aeb9815a-76b0-44f2-ae62-28faa9e61570",
   "metadata": {},
   "source": [
    "### Resolution d'equation"
   ]
  },
  {
   "cell_type": "code",
   "execution_count": 12,
   "id": "d09f27d2-78bb-419d-a0be-e1259dea83b4",
   "metadata": {},
   "outputs": [
    {
     "name": "stdout",
     "output_type": "stream",
     "text": [
      "Solutions de l'équation x^2 - 5x + 6 = 0 : [2, 3]\n"
     ]
    }
   ],
   "source": [
    "eq = sp.Eq(x**2 - 5*x + 6, 0)\n",
    "solutions = sp.solve(eq, x)\n",
    "print(\"Solutions de l'équation x^2 - 5x + 6 = 0 :\", solutions)\n"
   ]
  },
  {
   "cell_type": "markdown",
   "id": "f56a78ec-b399-4999-94ef-732c45a8f4e4",
   "metadata": {},
   "source": [
    "### Systemes d'equation"
   ]
  },
  {
   "cell_type": "code",
   "execution_count": 13,
   "id": "17cf665b-30ee-4117-a701-edb42b3af5e6",
   "metadata": {},
   "outputs": [
    {
     "name": "stdout",
     "output_type": "stream",
     "text": [
      "Solutions du système : {x: 12/5, y: 16/5}\n"
     ]
    }
   ],
   "source": [
    "eq1 = sp.Eq(2*x + y, 8)\n",
    "eq2 = sp.Eq(3*x - y, 4)\n",
    "\n",
    "solutions = sp.solve((eq1, eq2), (x, y))\n",
    "print(\"Solutions du système :\", solutions)\n"
   ]
  },
  {
   "cell_type": "markdown",
   "id": "9471fa20-056b-4dde-b23c-09dc896ce110",
   "metadata": {},
   "source": [
    "### Systemes lineaire symbolique"
   ]
  },
  {
   "cell_type": "code",
   "execution_count": 14,
   "id": "70f89e90-5db4-47a5-8bb7-72c72eeefb92",
   "metadata": {},
   "outputs": [
    {
     "name": "stdout",
     "output_type": "stream",
     "text": [
      "Solution du système matriciel AX = b : Matrix([[8/5], [9/5]])\n",
      "Valeurs propres : {5/2 - sqrt(5)/2: 1, sqrt(5)/2 + 5/2: 1}\n",
      "Vecteurs propres : [(5/2 - sqrt(5)/2, 1, [Matrix([\n",
      "[-sqrt(5)/2 - 1/2],\n",
      "[               1]])]), (sqrt(5)/2 + 5/2, 1, [Matrix([\n",
      "[-1/2 + sqrt(5)/2],\n",
      "[               1]])])]\n"
     ]
    }
   ],
   "source": [
    "# Matrice symbolique\n",
    "A = sp.Matrix([[2, 1], [1, 3]])\n",
    "b = sp.Matrix([5, 7])\n",
    "\n",
    "# Résolution de A * X = b\n",
    "X = A.LUsolve(b)\n",
    "print(\"Solution du système matriciel AX = b :\", X)\n",
    "\n",
    "# Valeurs propres et vecteurs propres\n",
    "eigvals = A.eigenvals()\n",
    "eigvects = A.eigenvects()\n",
    "print(\"Valeurs propres :\", eigvals)\n",
    "print(\"Vecteurs propres :\", eigvects)\n"
   ]
  },
  {
   "cell_type": "markdown",
   "id": "681256cc-eedf-4b62-8fdf-e3bee49d924d",
   "metadata": {},
   "source": [
    "### Optimisation"
   ]
  },
  {
   "cell_type": "code",
   "execution_count": 15,
   "id": "5c17f9aa-44ab-448e-a5ed-e9098e331d62",
   "metadata": {},
   "outputs": [
    {
     "name": "stdout",
     "output_type": "stream",
     "text": [
      "Gradient : [2*x - 4, 2*y - 6]\n",
      "Point critique : {x: 2, y: 3}\n",
      "Hessienne : Matrix([[2, 0], [0, 2]])\n"
     ]
    }
   ],
   "source": [
    "# Fonction multivariable\n",
    "f = x**2 + y**2 - 4*x - 6*y + 13\n",
    "\n",
    "# Gradient\n",
    "grad = [sp.diff(f, var) for var in (x, y)]\n",
    "print(\"Gradient :\", grad)\n",
    "\n",
    "# Résolution grad = 0\n",
    "sol = sp.solve(grad, (x, y))\n",
    "print(\"Point critique :\", sol)\n",
    "\n",
    "# Hessienne\n",
    "H = sp.hessian(f, (x, y))\n",
    "print(\"Hessienne :\", H)\n"
   ]
  },
  {
   "cell_type": "markdown",
   "id": "4b7a0b47-10a9-4c4f-8197-1373fbb38c34",
   "metadata": {},
   "source": [
    "### Cas d’usage réel : Machine Learning (Descente de gradient symbolique)\n",
    "Exemple : régression linéaire simple avec Sympy pour illustrer comment calculer les gradients analytiquement.\n",
    "\n",
    "Resultat: on obtiens les formules symboliques exactes pour la descente de gradient (utile en ML). En pratique, ces gradients sont ensuite implémentés en NumPy/TensorFlow/PyTorch"
   ]
  },
  {
   "cell_type": "code",
   "execution_count": 16,
   "id": "d1b1dc7e-b40c-4659-b6ca-d70880228340",
   "metadata": {},
   "outputs": [
    {
     "name": "stdout",
     "output_type": "stream",
     "text": [
      "Gradient par rapport à m : -2*xi*(-b - m*xi + yi)\n",
      "Gradient par rapport à b : 2*b + 2*m*xi - 2*yi\n"
     ]
    }
   ],
   "source": [
    "# Variables symboliques\n",
    "m, b = sp.symbols('m b')\n",
    "xi, yi = sp.symbols('xi yi')  # un point (xi, yi) du dataset\n",
    "\n",
    "# Fonction de coût quadratique pour une donnée (xi, yi)\n",
    "J = (yi - (m*xi + b))**2\n",
    "\n",
    "# Gradients\n",
    "dJ_dm = sp.diff(J, m)\n",
    "dJ_db = sp.diff(J, b)\n",
    "\n",
    "print(\"Gradient par rapport à m :\", dJ_dm)\n",
    "print(\"Gradient par rapport à b :\", dJ_db)\n"
   ]
  },
  {
   "cell_type": "code",
   "execution_count": null,
   "id": "eb0fd7ee-808a-4beb-b884-e22fdea44b6a",
   "metadata": {},
   "outputs": [],
   "source": []
  }
 ],
 "metadata": {
  "kernelspec": {
   "display_name": "Python 3 (ipykernel)",
   "language": "python",
   "name": "python3"
  },
  "language_info": {
   "codemirror_mode": {
    "name": "ipython",
    "version": 3
   },
   "file_extension": ".py",
   "mimetype": "text/x-python",
   "name": "python",
   "nbconvert_exporter": "python",
   "pygments_lexer": "ipython3",
   "version": "3.10.12"
  }
 },
 "nbformat": 4,
 "nbformat_minor": 5
}
