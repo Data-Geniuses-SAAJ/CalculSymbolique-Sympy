{
 "cells": [
  {
   "cell_type": "code",
   "execution_count": null,
   "id": "abd4e5ae-044b-4bab-abad-166ec66db399",
   "metadata": {},
   "outputs": [],
   "source": [
    "from sklearn.datasets import load_diabetes, load_iris, fetch_california_housing\n",
    "import pandas as pd"
   ]
  },
  {
   "cell_type": "code",
   "execution_count": null,
   "id": "e9aba4b0-82b4-4e77-b262-28cb18387b7b",
   "metadata": {},
   "outputs": [],
   "source": [
    "# dataset regression: california houses dataset\n",
    "data = fetch_california_housing(as_frame=True)\n",
    "X2 = data.data[0:100][['MedInc', 'HouseAge']]\n",
    "y2 = data[0:100]['target']\n",
    "print(data.head())"
   ]
  },
  {
   "cell_type": "code",
   "execution_count": null,
   "id": "9f33c31d-ccf2-42a2-b748-7330a556d8c8",
   "metadata": {},
   "outputs": [],
   "source": [
    "# dataset classification: iris dataset\n",
    "data = load_iris(as_frame=True)\n",
    "df = data.frame\n",
    "X2 = df[0:100][['petal width (cm)', 'petal length (cm)']]\n",
    "y2 = df[0:100]['target']\n",
    "\n",
    "print(X2.head())"
   ]
  },
  {
   "cell_type": "code",
   "execution_count": null,
   "id": "2655b35d-af3c-4b16-8eed-e1456f0eca5f",
   "metadata": {},
   "outputs": [],
   "source": []
  },
  {
   "cell_type": "code",
   "execution_count": null,
   "id": "e236e811-30f4-4a56-9489-5ca99379d383",
   "metadata": {},
   "outputs": [],
   "source": []
  },
  {
   "cell_type": "code",
   "execution_count": null,
   "id": "06b6dd1e-8aa2-4642-a222-c1278ca4a720",
   "metadata": {},
   "outputs": [],
   "source": []
  }
 ],
 "metadata": {
  "kernelspec": {
   "display_name": "Python 3 (ipykernel)",
   "language": "python",
   "name": "python3"
  },
  "language_info": {
   "codemirror_mode": {
    "name": "ipython",
    "version": 3
   },
   "file_extension": ".py",
   "mimetype": "text/x-python",
   "name": "python",
   "nbconvert_exporter": "python",
   "pygments_lexer": "ipython3",
   "version": "3.10.12"
  }
 },
 "nbformat": 4,
 "nbformat_minor": 5
}
