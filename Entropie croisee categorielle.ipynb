{
 "cells": [
  {
   "cell_type": "code",
   "execution_count": null,
   "id": "6f3ef439-61c0-4c47-b84e-b5743e59fd16",
   "metadata": {},
   "outputs": [],
   "source": []
  }
 ],
 "metadata": {
  "kernelspec": {
   "display_name": "",
   "name": ""
  },
  "language_info": {
   "name": ""
  }
 },
 "nbformat": 4,
 "nbformat_minor": 5
}
